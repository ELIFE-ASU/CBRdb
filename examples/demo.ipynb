{
 "cells": [
  {
   "cell_type": "code",
   "execution_count": 1,
   "id": "0c300142",
   "metadata": {},
   "outputs": [],
   "source": [
    "try:\n",
    "    import CBRdb\n",
    "\n",
    "except ImportError:\n",
    "    import sys\n",
    "    import os\n",
    "\n",
    "    sys.path.append(os.path.abspath('../'))\n",
    "    import CBRdb\n"
   ]
  },
  {
   "cell_type": "code",
   "execution_count": null,
   "id": "c88d915e",
   "metadata": {},
   "outputs": [],
   "source": []
  }
 ],
 "metadata": {
  "kernelspec": {
   "display_name": "Python 3",
   "language": "python",
   "name": "python3"
  },
  "language_info": {
   "codemirror_mode": {
    "name": "ipython",
    "version": 3
   },
   "file_extension": ".py",
   "mimetype": "text/x-python",
   "name": "python",
   "nbconvert_exporter": "python",
   "pygments_lexer": "ipython3",
   "version": "3.12.7"
  }
 },
 "nbformat": 4,
 "nbformat_minor": 5
}
