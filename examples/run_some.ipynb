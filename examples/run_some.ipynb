{
 "cells": [
  {
   "cell_type": "code",
   "execution_count": null,
   "id": "f1a67383",
   "metadata": {},
   "outputs": [],
   "source": [
    "from IPython.display import display\n",
    "import pandas as pd\n",
    "import os\n",
    "\n",
    "try:\n",
    "    import CBRdb\n",
    "except ImportError:\n",
    "    import sys\n",
    "    import os\n",
    "    sys.path.append(os.path.abspath('../'))\n",
    "    import CBRdb\n",
    "\n",
    "download_data = False\n",
    "manually_add_compounds = False\n",
    "preprocess_reactions = False\n",
    "preprocess_compounds = False\n",
    "\n",
    "# download data\n",
    "if download_data: CBRdb.download_data(target=\"R\"), CBRdb.download_data(target=\"C_full\"), CBRdb.download_data(target=\"C\")\n",
    "\n",
    "# manually add compounds without mol files\n",
    "if manually_add_compounds: CBRdb.compounds_manual_add()\n",
    "\n",
    "# preprocess reactions\n",
    "if preprocess_reactions:\n",
    "    kegg_data_R = CBRdb.preprocess(target=\"R\")\n",
    "    atlas_data_R = CBRdb.clean_atlas(f_exclude_kegg=True)\n",
    "else:\n",
    "    kegg_data_R = pd.read_csv('../data/kegg_data_R.csv.zip', header=0)\n",
    "    atlas_data_R = pd.read_csv('../data/atlas_data_R.csv.zip', header=0, index_col=0)\n",
    "\n",
    "# preprocess compounds\n",
    "if preprocess_compounds:\n",
    "    C_meta, C_main = CBRdb.preprocess(target=\"C\")\n",
    "else: \n",
    "    C_meta = pd.read_csv('../data/kegg_data_C_metadata.csv.zip', header=0)\n",
    "    C_main = pd.read_csv('../data/kegg_data_C.csv.zip', header=0)\n",
    "    x_group_compounds = ['C00462', 'C01322', 'C01706', 'C01365', 'C03122', 'C01872', 'C00462', 'C01322', 'C01706', 'C01365', \n",
    "                         'C03122', 'C01872', 'C02103', 'C01812', 'C01813', 'C02103', 'C15564', 'C01812', 'C01813']\n",
    "\n",
    "#identify and remove shortcuts and other suspect reactions\n",
    "kegg_data_R = CBRdb.remove_suspect_reactions()\n",
    "# identify duplicate compounds\n",
    "dupemap = CBRdb.merge_data_sets.dedupe_compound_files(data_folder='../data/')\n",
    "# replace duplicate compounds with their dupe-group identifier\n",
    "kegg_data_R['reaction'] = (kegg_data_R['reaction'].str.split(expand=True).replace(dupemap)\n",
    "                           .fillna('').apply(lambda x: ' '.join(x), axis=1).str.strip())\n",
    "atlas_data_R['reaction'] = (atlas_data_R['reaction'].str.split(expand=True).replace(dupemap)\n",
    "                           .fillna('').apply(lambda x: ' '.join(x), axis=1).str.strip())\n",
    "kegg_data_R.to_csv('../data/kegg_data_R.csv.zip', compression='zip', encoding='utf-8', index=False)\n",
    "atlas_data_R.to_csv('../data/atlas_data_R.csv.zip', compression='zip', encoding='utf-8', index=False)\n",
    "\n",
    "display(kegg_data_R.head(3))\n",
    "display(atlas_data_R.head(3))\n",
    "display(C_meta.head(3))\n",
    "display(C_main.head(3))\n"
   ]
  },
  {
   "cell_type": "markdown",
   "id": "8e414449",
   "metadata": {},
   "source": [
    "next step: dedupe reactions."
   ]
  }
 ],
 "metadata": {
  "kernelspec": {
   "display_name": "Python 3",
   "language": "python",
   "name": "python3"
  },
  "language_info": {
   "codemirror_mode": {
    "name": "ipython",
    "version": 3
   },
   "file_extension": ".py",
   "mimetype": "text/x-python",
   "name": "python",
   "nbconvert_exporter": "python",
   "pygments_lexer": "ipython3",
   "version": "3.12.7"
  }
 },
 "nbformat": 4,
 "nbformat_minor": 5
}
