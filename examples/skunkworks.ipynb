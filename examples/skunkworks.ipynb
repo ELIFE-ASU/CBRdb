{
 "cells": [
  {
   "cell_type": "code",
   "id": "initial_id",
   "metadata": {
    "collapsed": true,
    "ExecuteTime": {
     "end_time": "2024-11-20T07:00:26.675062Z",
     "start_time": "2024-11-20T07:00:26.651106Z"
    }
   },
   "source": [
    "import pandas as pd\n",
    "import numpy as np\n",
    "from rdkit import Chem as Chem\n",
    "from rdkit.Chem.MolStandardize import rdMolStandardize\n",
    "from rdkit.Chem import rdMolDescriptors"
   ],
   "outputs": [],
   "execution_count": 33
  },
  {
   "metadata": {
    "ExecuteTime": {
     "end_time": "2024-11-20T06:57:30.265434Z",
     "start_time": "2024-11-20T06:57:30.254188Z"
    }
   },
   "cell_type": "code",
   "source": [
    "def standardize_mol(mol):\n",
    "    # Standardize the molecule\n",
    "    mol.UpdatePropertyCache(strict=False)\n",
    "    Chem.SetConjugation(mol)\n",
    "    Chem.SetHybridization(mol)\n",
    "    # Normalize the molecule\n",
    "    Chem.SanitizeMol(mol, sanitizeOps=(Chem.SANITIZE_ALL ^ Chem.SANITIZE_CLEANUP ^ Chem.SANITIZE_PROPERTIES))\n",
    "    rdMolStandardize.NormalizeInPlace(mol)\n",
    "    # kekulize the molecule\n",
    "    # Chem.Kekulize(mol)\n",
    "    # Update the properties\n",
    "    mol.UpdatePropertyCache(strict=False)\n",
    "    return mol"
   ],
   "id": "6366be03126603a4",
   "outputs": [],
   "execution_count": 22
  },
  {
   "metadata": {
    "ExecuteTime": {
     "end_time": "2024-11-20T06:24:37.603224Z",
     "start_time": "2024-11-20T06:24:37.384710Z"
    }
   },
   "cell_type": "code",
   "source": [
    "data = pd.read_csv(\"../data/atlas_data_R.csv.zip\")\n",
    "print(\"data columns\", data.columns, flush=True)\n",
    "# check how many of kegg_id are present\n",
    "print(\"kegg_id\", data[\"kegg_id\"].nunique(), flush=True)\n"
   ],
   "id": "a51d61de553f363a",
   "outputs": [
    {
     "name": "stdout",
     "output_type": "stream",
     "text": [
      "data columns Index(['Unnamed: 0', 'id', 'kegg_id', 'reaction', 'ec'], dtype='object')\n",
      "kegg_id 5622\n"
     ]
    }
   ],
   "execution_count": 7
  },
  {
   "metadata": {
    "ExecuteTime": {
     "end_time": "2024-11-20T06:53:42.542036Z",
     "start_time": "2024-11-20T06:53:42.475429Z"
    }
   },
   "cell_type": "code",
   "source": [
    "# Look at the compound data\n",
    "data_c = pd.read_csv(\"../data/kegg_data_C.csv.zip\", index_col=0)\n",
    "print(\"data columns\", data_c.columns, flush=True)\n",
    "# sort the compound so that the lowest 10 molecular weight are at the top\n",
    "data_c = data_c.sort_values(by=\"molecular_weight\")\n",
    "# print only the compound_id and the smiles\n",
    "print(data_c[[\"compound_id\", \"smiles\", \"formula\"]].head(50), flush=True)"
   ],
   "id": "51ab47f245764754",
   "outputs": [
    {
     "name": "stdout",
     "output_type": "stream",
     "text": [
      "data columns Index(['compound_id', 'smiles', 'formula', 'molecular_weight', 'n_heavy_atoms',\n",
      "       'n_chiral_centers'],\n",
      "      dtype='object')\n",
      "      compound_id              smiles formula\n",
      "608        C00701                   *       *\n",
      "166        C00174                   *       *\n",
      "27         C00028                   *       *\n",
      "3757       C05359                   *       *\n",
      "207        C00215                   *       *\n",
      "197        C00205                   *       *\n",
      "76         C00080                [H+]      H+\n",
      "1136       C01371            [H:0][H]      H2\n",
      "266        C00282              [H][H]      H2\n",
      "29         C00030             [H]*[H]     H2*\n",
      "11939      C15473               [LiH]     HLi\n",
      "12687      C16460              [BeH2]    H2Be\n",
      "1174       C01438                   C     CH4\n",
      "13053      C16844              [H][O]      HO\n",
      "1113       C01328               [OH-]     HO-\n",
      "13         C00014        [H]N([H])[H]     H3N\n",
      "612        C00706              [H:0]N     H3N\n",
      "1312       C01664              [H:0]N     H3N\n",
      "12482      C16240              [H:0]N     H3N\n",
      "1781       C02324         [H:0]N[H:0]     H3N\n",
      "17130      C21300              [H:0]N     H3N\n",
      "12934      C16722              [H:0]N     H3N\n",
      "1474       C01890              [H:0]N     H3N\n",
      "765        C00893              [H:0]N     H3N\n",
      "1693       C02196  [H:0]N([H:0])[H:0]     H3N\n",
      "17960      C22158              [H:0]N     H3N\n",
      "17959      C22157              [H:0]N     H3N\n",
      "1918       C02525              [H:0]O     H2O\n",
      "65         C00069              [H:0]O     H2O\n",
      "1117       C01335              [H:0]O     H2O\n",
      "0          C00001             [H]O[H]     H2O\n",
      "2338       C03130              [H:0]O     H2O\n",
      "739        C00863              [H:0]O     H2O\n",
      "1121       C01342              [NH4+]    H4N+\n",
      "18744      C99004              [*][F]      *F\n",
      "640        C00742                [F-]      F-\n",
      "12714      C16487                   F      HF\n",
      "1115       C01330               [Na+]     Na+\n",
      "283        C00305              [Mg+2]    Mg+2\n",
      "169        C00177              [C-]#N     CN-\n",
      "1242       C01548                 C#C    C2H2\n",
      "4381       C06264              [Al+2]    Al+2\n",
      "12379      C16072            [H:0]C#N     CHN\n",
      "628        C00726            [H:0]C#N     CHN\n",
      "1471       C01887            [H:0]C#N     CHN\n",
      "1111       C01326              [H]C#N     CHN\n",
      "228        C00237           [C-]#[O+]      CO\n",
      "605        C00697                 N#N      N2\n",
      "1137       C01372     [H:0]/C=C/[H:0]    C2H4\n",
      "15500      C19503                 C=C    C2H4\n"
     ]
    }
   ],
   "execution_count": 20
  },
  {
   "metadata": {
    "ExecuteTime": {
     "end_time": "2024-11-20T07:09:25.757188Z",
     "start_time": "2024-11-20T07:09:25.747581Z"
    }
   },
   "cell_type": "code",
   "source": [
    "smi = \"[H:0]/C=C/[H:0]\"\n",
    "print(f\"input: {smi}\", flush=True)\n",
    "# replace all occurrences of [H:0] with *\n",
    "smi = smi.replace(\"[H:0]\", \"*\")\n",
    "print(f\"replaced: {smi}\", flush=True)\n",
    "\n",
    "mol = Chem.MolFromSmiles(smi)\n",
    "mol = standardize_mol(mol)\n",
    "Chem.Kekulize(mol)\n",
    "smi_out = Chem.MolToSmiles(mol)\n",
    "print(f\"output: {smi_out}\", flush=True)\n",
    "# print the formula\n",
    "print(f\"formula: {rdMolDescriptors.CalcMolFormula(mol)}\", flush=True)"
   ],
   "id": "9ab153b3a1b095fa",
   "outputs": [
    {
     "name": "stdout",
     "output_type": "stream",
     "text": [
      "input: [H:0]/C=C/[H:0]\n",
      "replaced: */C=C/*\n",
      "output: */C=C/*\n",
      "formula: C2H2*2\n"
     ]
    },
    {
     "name": "stderr",
     "output_type": "stream",
     "text": [
      "[00:09:25] Initializing Normalizer\n",
      "[00:09:25] Running Normalizer\n"
     ]
    }
   ],
   "execution_count": 39
  },
  {
   "metadata": {},
   "cell_type": "code",
   "outputs": [],
   "execution_count": null,
   "source": "",
   "id": "b7191abc7b73e448"
  }
 ],
 "metadata": {
  "kernelspec": {
   "display_name": "Python 3",
   "language": "python",
   "name": "python3"
  },
  "language_info": {
   "codemirror_mode": {
    "name": "ipython",
    "version": 2
   },
   "file_extension": ".py",
   "mimetype": "text/x-python",
   "name": "python",
   "nbconvert_exporter": "python",
   "pygments_lexer": "ipython2",
   "version": "2.7.6"
  }
 },
 "nbformat": 4,
 "nbformat_minor": 5
}
