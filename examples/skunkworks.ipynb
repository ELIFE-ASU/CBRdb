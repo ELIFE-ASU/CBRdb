{
 "cells": [
  {
   "cell_type": "code",
   "id": "initial_id",
   "metadata": {
    "collapsed": true
   },
   "source": [
    "import pandas as pd\n",
    "import numpy as np\n",
    "from rdkit import Chem as Chem\n",
    "from rdkit.Chem.MolStandardize import rdMolStandardize\n",
    "from rdkit.Chem import rdMolDescriptors"
   ],
   "outputs": [],
   "execution_count": null
  },
  {
   "metadata": {},
   "cell_type": "code",
   "source": [
    "def standardize_mol(mol):\n",
    "    # Standardize the molecule\n",
    "    mol.UpdatePropertyCache(strict=False)\n",
    "    Chem.SetConjugation(mol)\n",
    "    Chem.SetHybridization(mol)\n",
    "    # Normalize the molecule\n",
    "    Chem.SanitizeMol(mol, sanitizeOps=(Chem.SANITIZE_ALL ^ Chem.SANITIZE_CLEANUP ^ Chem.SANITIZE_PROPERTIES))\n",
    "    rdMolStandardize.NormalizeInPlace(mol)\n",
    "    # kekulize the molecule\n",
    "    # Chem.Kekulize(mol)\n",
    "    # Update the properties\n",
    "    mol.UpdatePropertyCache(strict=False)\n",
    "    return mol"
   ],
   "id": "6366be03126603a4",
   "outputs": [],
   "execution_count": null
  },
  {
   "metadata": {},
   "cell_type": "code",
   "source": [
    "data = pd.read_csv(\"../data/atlas_data_R.csv.zip\")\n",
    "print(\"data columns\", data.columns, flush=True)\n",
    "# check how many of kegg_id are present\n",
    "print(\"kegg_id\", data[\"kegg_id\"].nunique(), flush=True)\n"
   ],
   "id": "a51d61de553f363a",
   "outputs": [],
   "execution_count": null
  },
  {
   "metadata": {},
   "cell_type": "code",
   "source": [
    "# Look at the compound data\n",
    "data_c = pd.read_csv(\"../data/kegg_data_C.csv.zip\")\n",
    "print(\"data columns\", data_c.columns, flush=True)\n",
    "# sort the compound so that the lowest 10 molecular weight are at the top\n",
    "data_c = data_c.sort_values(by=\"molecular_weight\")\n",
    "# print only the compound_id and the smiles\n",
    "print(data_c[[\"compound_id\", \"smiles\", \"formula\"]].head(50), flush=True)"
   ],
   "id": "51ab47f245764754",
   "outputs": [],
   "execution_count": null
  },
  {
   "metadata": {},
   "cell_type": "code",
   "source": [
    "smi = \"[H:0]/C=C/[H:0]\"\n",
    "print(f\"input: {smi}\", flush=True)\n",
    "# replace all occurrences of [H:0] with *\n",
    "smi = smi.replace(\"[H:0]\", \"*\")\n",
    "print(f\"replaced: {smi}\", flush=True)\n",
    "\n",
    "mol = Chem.MolFromSmiles(smi)\n",
    "mol = standardize_mol(mol)\n",
    "Chem.Kekulize(mol)\n",
    "smi_out = Chem.MolToSmiles(mol)\n",
    "print(f\"output: {smi_out}\", flush=True)\n",
    "# print the formula\n",
    "print(f\"formula: {rdMolDescriptors.CalcMolFormula(mol)}\", flush=True)"
   ],
   "id": "9ab153b3a1b095fa",
   "outputs": [],
   "execution_count": null
  },
  {
   "metadata": {},
   "cell_type": "code",
   "source": "",
   "id": "b7191abc7b73e448",
   "outputs": [],
   "execution_count": null
  }
 ],
 "metadata": {
  "kernelspec": {
   "display_name": "Python 3",
   "language": "python",
   "name": "python3"
  },
  "language_info": {
   "codemirror_mode": {
    "name": "ipython",
    "version": 2
   },
   "file_extension": ".py",
   "mimetype": "text/x-python",
   "name": "python",
   "nbconvert_exporter": "python",
   "pygments_lexer": "ipython2",
   "version": "2.7.6"
  }
 },
 "nbformat": 4,
 "nbformat_minor": 5
}
