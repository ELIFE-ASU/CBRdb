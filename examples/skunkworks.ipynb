{
 "cells": [
  {
   "cell_type": "code",
   "id": "initial_id",
   "metadata": {
    "collapsed": true
   },
   "source": [
    "import pandas as pd\n",
    "import numpy as np\n",
    "from rdkit import Chem as Chem\n",
    "from rdkit.Chem.MolStandardize import rdMolStandardize\n",
    "from rdkit.Chem import rdMolDescriptors\n",
    "import CBRdb"
   ],
   "outputs": [],
   "execution_count": null
  },
  {
   "metadata": {},
   "cell_type": "code",
   "source": [
    "data = pd.read_csv(\"../data/atlas_data_R.csv.zip\")\n",
    "print(\"data columns\", data.columns, flush=True)\n",
    "# check how many of kegg_id are present\n",
    "# print(\"kegg_id\", data[\"kegg_id\"].nunique(), flush=True)\n",
    "print(data.head(), flush=True)"
   ],
   "id": "a51d61de553f363a",
   "outputs": [],
   "execution_count": null
  },
  {
   "metadata": {},
   "cell_type": "code",
   "source": [
    "# select only the data which has a non NaN kegg_id\n",
    "data_tmp = data[data[\"kegg_id\"].isna()]\n",
    "# Sort the data by the kegg_id\n",
    "#data_tmp = data_tmp.sort_values(by=\"kegg_id\")\n",
    "\n",
    "print(data_tmp.head(), flush=True)"
   ],
   "id": "5c7bd367ffcf8513",
   "outputs": [],
   "execution_count": null
  },
  {
   "metadata": {},
   "cell_type": "code",
   "source": [
    "# Look at the compound data\n",
    "data_c = pd.read_csv(\"../data/kegg_data_C.csv.zip\")\n",
    "print(\"data columns\", data_c.columns, flush=True)\n",
    "# sort the compound so that the lowest 10 molecular weight are at the top\n",
    "data_c = data_c.sort_values(by=\"molecular_weight\")\n",
    "# print only the compound_id and the smiles\n",
    "print(data_c[[\"compound_id\", \"smiles\", \"formula\"]].head(50), flush=True)"
   ],
   "id": "51ab47f245764754",
   "outputs": [],
   "execution_count": null
  },
  {
   "metadata": {},
   "cell_type": "code",
   "source": [
    "smi = \"[H:0]/C=C/[H:0]\"\n",
    "print(f\"input: {smi}\", flush=True)\n",
    "# replace all occurrences of [H:0] with *\n",
    "smi = smi.replace(\"[H:0]\", \"*\")\n",
    "print(f\"replaced: {smi}\", flush=True)\n",
    "\n",
    "mol = Chem.MolFromSmiles(smi)\n",
    "mol = CBRdb.standardize_mol(mol)\n",
    "Chem.Kekulize(mol)\n",
    "smi_out = Chem.MolToSmiles(mol)\n",
    "print(f\"output: {smi_out}\", flush=True)\n",
    "# print the formula\n",
    "print(f\"formula: {rdMolDescriptors.CalcMolFormula(mol)}\", flush=True)"
   ],
   "id": "9ab153b3a1b095fa",
   "outputs": [],
   "execution_count": null
  },
  {
   "metadata": {},
   "cell_type": "code",
   "source": [
    "sol = \"1 C00001 + 2 C00002 <=> 3 C00008 + 4 C00009\"\n",
    "eq = \"-2 C00002 + 1 C00001 <=> 3 C00008 + 4 C00009\"\n",
    "r, p = CBRdb.eq_to_dict(eq)\n",
    "# sort the dictionary\n",
    "print(r, flush=True)\n",
    "print(r, flush=True)\n",
    "eq_new = CBRdb.dicts_to_eq(r, p)\n",
    "print(eq_new, flush=True)\n",
    "# assert sol == eq_new"
   ],
   "id": "b7191abc7b73e448",
   "outputs": [],
   "execution_count": null
  },
  {
   "metadata": {},
   "cell_type": "code",
   "source": "",
   "id": "b8c0ac983917a923",
   "outputs": [],
   "execution_count": null
  }
 ],
 "metadata": {
  "kernelspec": {
   "display_name": "Python 3",
   "language": "python",
   "name": "python3"
  },
  "language_info": {
   "codemirror_mode": {
    "name": "ipython",
    "version": 2
   },
   "file_extension": ".py",
   "mimetype": "text/x-python",
   "name": "python",
   "nbconvert_exporter": "python",
   "pygments_lexer": "ipython2",
   "version": "2.7.6"
  }
 },
 "nbformat": 4,
 "nbformat_minor": 5
}
